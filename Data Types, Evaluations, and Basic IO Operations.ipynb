{
 "cells": [
  {
   "cell_type": "markdown",
   "id": "33a02c61",
   "metadata": {},
   "source": [
    "## Arithmetics operators"
   ]
  },
  {
   "cell_type": "raw",
   "id": "8d7c00ac",
   "metadata": {},
   "source": [
    "(+)  => Add two operands or unary plus\n",
    "(-)  => Subtract right operand from the left or unary minus\n",
    "(*)  => Multiply two operands\n",
    "(/)  => Modulus - remainder of the division of left operand by the right\n",
    "(//) => Floor division - division that results into whole number adjusted to the left in the number line\n",
    "(**) => Exponent - left operand raised to the power of right"
   ]
  },
  {
   "cell_type": "markdown",
   "id": "229287b3",
   "metadata": {},
   "source": [
    "## Comparisons operators"
   ]
  },
  {
   "cell_type": "raw",
   "id": "12e48a42",
   "metadata": {},
   "source": [
    "(>)   => Greater than - True if left operand is greater than the right\n",
    "(<)   => Less than - True if left operand is less than the right\n",
    "(==)  => Equal to - True if both operands are equal\n",
    "(!=)  => Not equal to - True if operands are not equal\n",
    "(>=)  => Greater than or equal to - True if left operand is greater than or equal to the right\n",
    "(<=)  => Less than or equal to - True if left operand is less than or equal to the right"
   ]
  },
  {
   "cell_type": "markdown",
   "id": "e65ff502",
   "metadata": {},
   "source": [
    "## Precedence"
   ]
  },
  {
   "cell_type": "raw",
   "id": "4a519512",
   "metadata": {},
   "source": [
    "( () )  => Parentheses\t\n",
    "(**)  => Exponent\t\n",
    "(+x, -x, ~x)  => Unary plus, Unary minus, Bitwise NOT\t\n",
    "(*, /, //, %)  => Multiplication, Division, Floor division, Modulus\t\n",
    "(+, -)  => Addition, Subtraction\t\n",
    "(<<, >>)  => Bitwise shift operators\t\n",
    "(&)  => Bitwise AND\t\n",
    "(^)  => Bitwise XOR\t\n",
    "(|)  => Bitwise OR\t\n",
    "(==, !=, >, >=, <, <=, is, is not, in, not in)  => Comparisons, Identity, Membership operators\t\n",
    "(not) => Logical NOT\n",
    "(and) => Logical AND\t\n",
    "(or)  => Logical OR"
   ]
  },
  {
   "cell_type": "raw",
   "id": "ce17dbcd",
   "metadata": {},
   "source": [
    "Operators evaluate left to right"
   ]
  },
  {
   "cell_type": "markdown",
   "id": "ebce5345",
   "metadata": {},
   "source": [
    "## Bitwise operator"
   ]
  },
  {
   "cell_type": "raw",
   "id": "b58f171f",
   "metadata": {},
   "source": [
    "(&  AND)  => Operator copies a bit to the result if it exists in both operands \t\n",
    "(|  OR)  =>  It copies a bit if it exists in either operand. \t\n",
    "(^  XOR)  =>  It copies the bit if it is set in one operand but not both. \t\n",
    "(~  Ones Complement)  =>  It is unary and has the effect of 'flipping' bits.\n",
    "(<< Left Shift)  =>  The left operands value is moved left by the number of bits specified by the right operand. \t\n",
    "(>> Right Shift)  =>  The left operands value is moved right by the number of bits specified by the right operand. \t"
   ]
  },
  {
   "cell_type": "markdown",
   "id": "d93b1985",
   "metadata": {},
   "source": [
    "## Basic input output operations"
   ]
  },
  {
   "cell_type": "raw",
   "id": "cbf9621d",
   "metadata": {},
   "source": [
    "print()\n",
    "default separator : space\n",
    "default end of line : return cariage (\\n)"
   ]
  },
  {
   "cell_type": "code",
   "execution_count": null,
   "id": "6291d406",
   "metadata": {},
   "outputs": [],
   "source": [
    "print(\"one\")\n",
    "print(\"two\")\n",
    "print(\"three\")"
   ]
  },
  {
   "cell_type": "code",
   "execution_count": null,
   "id": "529e4612",
   "metadata": {},
   "outputs": [],
   "source": [
    "print(\"one\", \"two\", \"three\")"
   ]
  },
  {
   "cell_type": "code",
   "execution_count": null,
   "id": "4b032b07",
   "metadata": {},
   "outputs": [],
   "source": [
    "print(\"one\", \"two\", \"three\", sep=\",\")"
   ]
  },
  {
   "cell_type": "code",
   "execution_count": null,
   "id": "8eda8dc9",
   "metadata": {},
   "outputs": [],
   "source": [
    "print(\"one\", \"two\", \"three\", sep=\",\")\n",
    "print(\"one\", \"two\", \"three\", sep=\",\")"
   ]
  },
  {
   "cell_type": "code",
   "execution_count": null,
   "id": "149a5dbe",
   "metadata": {},
   "outputs": [],
   "source": [
    "print(\"one\", \"two\", \"three\", sep=\",\", end=\" | \")\n",
    "print(\"one\", \"two\", \"three\", sep=\",\")"
   ]
  },
  {
   "cell_type": "code",
   "execution_count": 2,
   "id": "258c19d6",
   "metadata": {},
   "outputs": [
    {
     "name": "stdout",
     "output_type": "stream",
     "text": [
      "1\n",
      "3\n",
      "3\n"
     ]
    }
   ],
   "source": [
    "print(int(1))\n",
    "print(int(3.6))\n",
    "print(int(\"3\"))"
   ]
  },
  {
   "cell_type": "code",
   "execution_count": 3,
   "id": "d5bc5fe0",
   "metadata": {},
   "outputs": [
    {
     "name": "stdout",
     "output_type": "stream",
     "text": [
      "1.0\n",
      "3.6\n",
      "3.0\n"
     ]
    }
   ],
   "source": [
    "print(float(1))\n",
    "print(float(3.6))\n",
    "print(float(\"3\"))"
   ]
  },
  {
   "cell_type": "code",
   "execution_count": 4,
   "id": "69e42bf2",
   "metadata": {},
   "outputs": [
    {
     "name": "stdout",
     "output_type": "stream",
     "text": [
      "1\n",
      "3.6\n",
      "3\n"
     ]
    }
   ],
   "source": [
    "print(str(1))\n",
    "print(str(3.6))\n",
    "print(str(\"3\"))"
   ]
  },
  {
   "cell_type": "code",
   "execution_count": null,
   "id": "1eaea560",
   "metadata": {},
   "outputs": [],
   "source": []
  }
 ],
 "metadata": {
  "kernelspec": {
   "display_name": "Python 3 (ipykernel)",
   "language": "python",
   "name": "python3"
  },
  "language_info": {
   "codemirror_mode": {
    "name": "ipython",
    "version": 3
   },
   "file_extension": ".py",
   "mimetype": "text/x-python",
   "name": "python",
   "nbconvert_exporter": "python",
   "pygments_lexer": "ipython3",
   "version": "3.8.10"
  }
 },
 "nbformat": 4,
 "nbformat_minor": 5
}
