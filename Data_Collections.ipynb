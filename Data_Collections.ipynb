{
 "cells": [
  {
   "cell_type": "markdown",
   "id": "4ec03be9",
   "metadata": {},
   "source": [
    "# List"
   ]
  },
  {
   "cell_type": "raw",
   "id": "6c52fcd9",
   "metadata": {},
   "source": [
    "Mutable\n",
    "Can have same or differents data types\n",
    "Index start at 0\n",
    "list[start,end,step]"
   ]
  },
  {
   "cell_type": "code",
   "execution_count": null,
   "id": "e3120888",
   "metadata": {},
   "outputs": [],
   "source": [
    "list = ['Los Angeles', 'New York', 'Houston', 'Nevada']"
   ]
  },
  {
   "cell_type": "code",
   "execution_count": null,
   "id": "82cd330e",
   "metadata": {},
   "outputs": [],
   "source": [
    "print(len(list)) # nb element in list"
   ]
  },
  {
   "cell_type": "code",
   "execution_count": null,
   "id": "1bc4b1f7",
   "metadata": {},
   "outputs": [],
   "source": [
    "list.sort() # sort ASC (definitively)\n",
    "print(list)"
   ]
  },
  {
   "cell_type": "code",
   "execution_count": null,
   "id": "d508e488",
   "metadata": {},
   "outputs": [],
   "source": [
    "list.sort(reverse=True) # sort DESC (definitively)\n",
    "print(list)"
   ]
  },
  {
   "cell_type": "code",
   "execution_count": null,
   "id": "f4ba7612",
   "metadata": {},
   "outputs": [],
   "source": [
    "list.sort(key=len, reverse=True) # sort according function passed as parameter key (definitively)\n",
    "print(list)"
   ]
  },
  {
   "cell_type": "code",
   "execution_count": null,
   "id": "b4b4ce19",
   "metadata": {},
   "outputs": [],
   "source": [
    "print(list) # original list \n",
    "print(sorted(list)) # sorted list\n",
    "print(list) # original list"
   ]
  },
  {
   "cell_type": "code",
   "execution_count": null,
   "id": "074edf29",
   "metadata": {},
   "outputs": [],
   "source": [
    "list.append('Washington') # add element at the end of the list\n",
    "print(list)"
   ]
  },
  {
   "cell_type": "code",
   "execution_count": null,
   "id": "1bc754e4",
   "metadata": {},
   "outputs": [],
   "source": [
    "list.insert(1,'Colorado') # add the element at the index 1\n",
    "print(list)"
   ]
  },
  {
   "cell_type": "code",
   "execution_count": null,
   "id": "c33ab10c",
   "metadata": {},
   "outputs": [],
   "source": [
    "print(list.index('Houston')) # get index of the value Houston"
   ]
  },
  {
   "cell_type": "code",
   "execution_count": null,
   "id": "13f31bcc",
   "metadata": {},
   "outputs": [],
   "source": [
    "list[0] # return first element"
   ]
  },
  {
   "cell_type": "code",
   "execution_count": null,
   "id": "7862df69",
   "metadata": {},
   "outputs": [],
   "source": [
    "list[-1] # return last element"
   ]
  },
  {
   "cell_type": "code",
   "execution_count": null,
   "id": "0f7cfa79",
   "metadata": {},
   "outputs": [],
   "source": [
    "list[-2]"
   ]
  },
  {
   "cell_type": "code",
   "execution_count": null,
   "id": "3886a39a",
   "metadata": {},
   "outputs": [],
   "source": [
    "list[1:3] #return list from index 1 to 3"
   ]
  },
  {
   "cell_type": "code",
   "execution_count": null,
   "id": "bd4ff606",
   "metadata": {},
   "outputs": [],
   "source": [
    "list[2:] #return list startting from index 2"
   ]
  },
  {
   "cell_type": "code",
   "execution_count": null,
   "id": "9f33efcd",
   "metadata": {},
   "outputs": [],
   "source": [
    "list[:3] # return from beginning until index 3"
   ]
  },
  {
   "cell_type": "code",
   "execution_count": null,
   "id": "40f9bf7d",
   "metadata": {},
   "outputs": [],
   "source": [
    "list[::2] # return list selecting every second entry"
   ]
  },
  {
   "cell_type": "code",
   "execution_count": null,
   "id": "a612229d",
   "metadata": {},
   "outputs": [],
   "source": [
    "list[::-1] # return list in reverse order"
   ]
  },
  {
   "cell_type": "code",
   "execution_count": null,
   "id": "744b3d3a",
   "metadata": {},
   "outputs": [],
   "source": [
    "list.remove('Colorado') # remove element at the index 1\n",
    "print(list)"
   ]
  },
  {
   "cell_type": "code",
   "execution_count": null,
   "id": "bf994a80",
   "metadata": {},
   "outputs": [],
   "source": [
    "list.remove('Colorado') # raise ValueError"
   ]
  },
  {
   "cell_type": "code",
   "execution_count": null,
   "id": "0a028932",
   "metadata": {},
   "outputs": [],
   "source": [
    "del list[:] # empty the list\n",
    "print(list)"
   ]
  },
  {
   "cell_type": "code",
   "execution_count": null,
   "id": "8b83a6bd",
   "metadata": {},
   "outputs": [],
   "source": [
    "del list # destroy the list variable\n",
    "print(list)"
   ]
  },
  {
   "cell_type": "code",
   "execution_count": null,
   "id": "f76dcfb8",
   "metadata": {},
   "outputs": [],
   "source": [
    "second_list = ['blue', 'yellow', 'red', 'green']\n",
    "third_list = second_list # those two variables are pointing to the same list\n",
    "print(second_list)\n",
    "print(third_list)"
   ]
  },
  {
   "cell_type": "code",
   "execution_count": null,
   "id": "26edd5fe",
   "metadata": {},
   "outputs": [],
   "source": [
    "third_list = second_list[:] # both lists are differents; the content of second_list is copied into third_list\n",
    "second_list.append('purple')\n",
    "print(second_list)\n",
    "print(third_list)"
   ]
  },
  {
   "cell_type": "code",
   "execution_count": null,
   "id": "cb8640a7",
   "metadata": {},
   "outputs": [],
   "source": [
    "cells = [['A1', 'A2', 'A3'], ['B1', 'B2', 'B3']]\n",
    "print(cells[0]) # get first sublist in a list"
   ]
  },
  {
   "cell_type": "code",
   "execution_count": null,
   "id": "818fdb68",
   "metadata": {},
   "outputs": [],
   "source": [
    "print(cells[0][0]) # get first element of the first sublist in the list"
   ]
  },
  {
   "cell_type": "code",
   "execution_count": null,
   "id": "daa6996c",
   "metadata": {},
   "outputs": [],
   "source": [
    "([0, 1] * 10)"
   ]
  },
  {
   "cell_type": "code",
   "execution_count": null,
   "id": "1a24eece",
   "metadata": {},
   "outputs": [],
   "source": [
    "print(['Californie', 'Arizona'] + ['Nevada', 'Texas']) # list not modified, new one created"
   ]
  },
  {
   "cell_type": "code",
   "execution_count": null,
   "id": "7990b6d6",
   "metadata": {},
   "outputs": [],
   "source": [
    "list1 = [1, 5]\n",
    "list2 = [2, 8, 6]\n",
    "print(list1)\n",
    "print(list2)\n",
    "list1.extend(list2)\n",
    "print(list1) # extend list1 with value of the list2"
   ]
  },
  {
   "cell_type": "code",
   "execution_count": null,
   "id": "02a6c065",
   "metadata": {},
   "outputs": [],
   "source": [
    "print(8 in list2) # Check if the value 8 is int the list2"
   ]
  },
  {
   "cell_type": "markdown",
   "id": "f3ad4308",
   "metadata": {},
   "source": [
    "# Tuples"
   ]
  },
  {
   "cell_type": "raw",
   "id": "d2e54cc7",
   "metadata": {},
   "source": [
    "Immutable\n",
    "Can have same or different data types\n",
    "Comma required"
   ]
  },
  {
   "cell_type": "code",
   "execution_count": null,
   "id": "5261c1ff",
   "metadata": {},
   "outputs": [],
   "source": [
    "print(type((1)))\n",
    "print(type((1,)))\n",
    "# Tuple with at least one element must have a comma in the end"
   ]
  },
  {
   "cell_type": "code",
   "execution_count": null,
   "id": "ba7ecbd4",
   "metadata": {},
   "outputs": [],
   "source": [
    "tup = (1, 2, 3) # like 1, 2, 3, or or 1, 2, 3 or (1, 2, 3,)\n",
    "print(tup)"
   ]
  },
  {
   "cell_type": "code",
   "execution_count": null,
   "id": "4874d288",
   "metadata": {},
   "outputs": [],
   "source": [
    "print(len(tup)) # nb element in the tup"
   ]
  },
  {
   "cell_type": "code",
   "execution_count": null,
   "id": "32dec11d",
   "metadata": {},
   "outputs": [],
   "source": [
    "print(tup[0]) # get first element of the tuple"
   ]
  },
  {
   "cell_type": "code",
   "execution_count": null,
   "id": "9c284885",
   "metadata": {},
   "outputs": [],
   "source": [
    "print(tup[5]) # raise IndexError"
   ]
  },
  {
   "cell_type": "code",
   "execution_count": null,
   "id": "d8c7d468",
   "metadata": {},
   "outputs": [],
   "source": [
    "print(tup[:2]) # get the two first elements of the tuple"
   ]
  },
  {
   "cell_type": "code",
   "execution_count": null,
   "id": "055b7af7",
   "metadata": {},
   "outputs": [],
   "source": [
    "capitales = [('London', 'UK', 8.36), ('Paris', 'FR', 5.4), ('Madrid', 'ES', 5.36)]"
   ]
  },
  {
   "cell_type": "code",
   "execution_count": null,
   "id": "fcc0c217",
   "metadata": {},
   "outputs": [],
   "source": [
    "print(2 in tup) # Check if the value 2 is in the tup"
   ]
  },
  {
   "cell_type": "code",
   "execution_count": null,
   "id": "f84e9e9b",
   "metadata": {},
   "outputs": [],
   "source": [
    "a, b, c = (1, 2, 3) # unpack tuple values in variables\n",
    "print(a)\n",
    "print(b)\n",
    "print(c)"
   ]
  },
  {
   "cell_type": "code",
   "execution_count": null,
   "id": "650eba50",
   "metadata": {},
   "outputs": [],
   "source": [
    "print(\"a=\"+str(a)+\" b=\"+str(b)+\" c=\"+str(c))\n",
    "a, b, c = c, a, b\n",
    "print(\"a=\"+str(a)+\" b=\"+str(b)+\" c=\"+str(c))"
   ]
  },
  {
   "cell_type": "code",
   "execution_count": null,
   "id": "0ed79bb7",
   "metadata": {},
   "outputs": [],
   "source": [
    "a, *b, c = (1, 2, 3, 4, 5) # extended unpack\n",
    "print(a)\n",
    "print(b)\n",
    "print(c)"
   ]
  },
  {
   "cell_type": "markdown",
   "id": "196f2423",
   "metadata": {},
   "source": [
    "# Dictionnaries"
   ]
  },
  {
   "cell_type": "raw",
   "id": "48d8c2eb",
   "metadata": {},
   "source": [
    "{key1:value1, key2:value2}\n",
    "Key immutable\n",
    "Value mutable\n",
    "Keys must be uniques"
   ]
  },
  {
   "cell_type": "code",
   "execution_count": 1,
   "id": "228161a3",
   "metadata": {},
   "outputs": [
    {
     "name": "stdout",
     "output_type": "stream",
     "text": [
      "{'Manu': 12, 'Tony': 15}\n"
     ]
    }
   ],
   "source": [
    "grades = {}\n",
    "grades['Manu'] = 12\n",
    "grades['Tony'] = 15\n",
    "print(grades)"
   ]
  },
  {
   "cell_type": "code",
   "execution_count": null,
   "id": "76b92d97",
   "metadata": {},
   "outputs": [],
   "source": [
    "print(grades['Tony'])"
   ]
  },
  {
   "cell_type": "code",
   "execution_count": null,
   "id": "8a84eb17",
   "metadata": {},
   "outputs": [],
   "source": [
    "print(list(grades.keys())) # Return keys"
   ]
  },
  {
   "cell_type": "code",
   "execution_count": null,
   "id": "52c6b31a",
   "metadata": {},
   "outputs": [],
   "source": [
    "print(list(grades.values())) # Return values"
   ]
  },
  {
   "cell_type": "code",
   "execution_count": null,
   "id": "055d7d9d",
   "metadata": {},
   "outputs": [],
   "source": [
    "print('Manu' in grades) # Check if a key exist in the dictionnary"
   ]
  },
  {
   "cell_type": "code",
   "execution_count": null,
   "id": "2acd3299",
   "metadata": {},
   "outputs": [],
   "source": [
    "# grades['Sam'] Trigger KeyError\n",
    "print(grades.get('Sam')) # By default return None\n",
    "print(grades.get('Sam', 'not found')) # If a message is in parameter then return this message if the key is not found\n"
   ]
  },
  {
   "cell_type": "code",
   "execution_count": 2,
   "id": "ca2eb4e0",
   "metadata": {},
   "outputs": [
    {
     "name": "stdout",
     "output_type": "stream",
     "text": [
      "{'Manu': 12, 'Tony': 15, 'Sam': 16}\n"
     ]
    }
   ],
   "source": [
    "grades.setdefault('Sam', 16) # Insert in the dict only if the key not exist\n",
    "grades.setdefault('Sam', 20)\n",
    "print(grades)"
   ]
  },
  {
   "cell_type": "code",
   "execution_count": 15,
   "id": "92478950",
   "metadata": {},
   "outputs": [
    {
     "ename": "TypeError",
     "evalue": "cannot convert dictionary update sequence element #0 to a sequence",
     "output_type": "error",
     "traceback": [
      "\u001b[0;31m---------------------------------------------------------------------------\u001b[0m",
      "\u001b[0;31mTypeError\u001b[0m                                 Traceback (most recent call last)",
      "\u001b[0;32m/tmp/ipykernel_11129/2524475683.py\u001b[0m in \u001b[0;36m<module>\u001b[0;34m\u001b[0m\n\u001b[0;32m----> 1\u001b[0;31m \u001b[0mgrades\u001b[0m\u001b[0;34m.\u001b[0m\u001b[0mupdate\u001b[0m\u001b[0;34m(\u001b[0m\u001b[0;34m{\u001b[0m\u001b[0;34m'David'\u001b[0m\u001b[0;34m,\u001b[0m\u001b[0;36m8\u001b[0m\u001b[0;34m}\u001b[0m\u001b[0;34m)\u001b[0m\u001b[0;34m\u001b[0m\u001b[0;34m\u001b[0m\u001b[0m\n\u001b[0m\u001b[1;32m      2\u001b[0m \u001b[0mprint\u001b[0m\u001b[0;34m(\u001b[0m\u001b[0mgrades\u001b[0m\u001b[0;34m)\u001b[0m\u001b[0;34m\u001b[0m\u001b[0;34m\u001b[0m\u001b[0m\n",
      "\u001b[0;31mTypeError\u001b[0m: cannot convert dictionary update sequence element #0 to a sequence"
     ]
    }
   ],
   "source": [
    "grades.update({'David',8})\n",
    "print(grades)"
   ]
  },
  {
   "cell_type": "code",
   "execution_count": null,
   "id": "daab8f79",
   "metadata": {},
   "outputs": [],
   "source": [
    "grades['Tony'] = 20\n",
    "print(grades)"
   ]
  },
  {
   "cell_type": "code",
   "execution_count": null,
   "id": "80aea2b3",
   "metadata": {},
   "outputs": [],
   "source": [
    "grades['Manu'] = 20\n",
    "print(grades)"
   ]
  },
  {
   "cell_type": "code",
   "execution_count": null,
   "id": "b244c7ae",
   "metadata": {},
   "outputs": [],
   "source": [
    "print(len(grades)) # nb element in the dictionnary"
   ]
  },
  {
   "cell_type": "code",
   "execution_count": 4,
   "id": "95408295",
   "metadata": {},
   "outputs": [
    {
     "name": "stdout",
     "output_type": "stream",
     "text": [
      "Manu\n",
      "Tony\n",
      "Sam\n",
      "Manu\n",
      "Tony\n",
      "Sam\n"
     ]
    }
   ],
   "source": [
    "for grade in grades:\n",
    "    print(grade)\n",
    "# same as \n",
    "for grade in grades.keys():\n",
    "    print(grade)"
   ]
  },
  {
   "cell_type": "code",
   "execution_count": 6,
   "id": "f6073d68",
   "metadata": {},
   "outputs": [
    {
     "name": "stdout",
     "output_type": "stream",
     "text": [
      "12\n",
      "15\n",
      "16\n"
     ]
    }
   ],
   "source": [
    "for grade in grades.values():\n",
    "    print(grade)"
   ]
  },
  {
   "cell_type": "code",
   "execution_count": 10,
   "id": "4275c2c0",
   "metadata": {},
   "outputs": [
    {
     "name": "stdout",
     "output_type": "stream",
     "text": [
      "Manu a eu  12\n",
      "Tony a eu  15\n",
      "Sam a eu  16\n"
     ]
    }
   ],
   "source": [
    "for name, grade in grades.items():\n",
    "    print(name, \"a eu \", grade)"
   ]
  },
  {
   "cell_type": "code",
   "execution_count": null,
   "id": "0f1f58cf",
   "metadata": {},
   "outputs": [],
   "source": []
  },
  {
   "cell_type": "code",
   "execution_count": null,
   "id": "5bca4c64",
   "metadata": {},
   "outputs": [],
   "source": [
    "del grades['Manu']\n",
    "print(grades)"
   ]
  }
 ],
 "metadata": {
  "kernelspec": {
   "display_name": "Python 3 (ipykernel)",
   "language": "python",
   "name": "python3"
  },
  "language_info": {
   "codemirror_mode": {
    "name": "ipython",
    "version": 3
   },
   "file_extension": ".py",
   "mimetype": "text/x-python",
   "name": "python",
   "nbconvert_exporter": "python",
   "pygments_lexer": "ipython3",
   "version": "3.8.10"
  }
 },
 "nbformat": 4,
 "nbformat_minor": 5
}
